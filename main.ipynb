{
 "cells": [
  {
   "cell_type": "markdown",
   "metadata": {},
   "source": [
    "# Importando as bibliotecas necessárias"
   ]
  },
  {
   "cell_type": "code",
   "execution_count": 19,
   "metadata": {},
   "outputs": [],
   "source": [
    "import numpy as np\n",
    "import pandas as pd"
   ]
  },
  {
   "cell_type": "markdown",
   "metadata": {},
   "source": [
    "# Lendo o arquivo de entrada, adequando para a forma correta e preparando a tabela"
   ]
  },
  {
   "cell_type": "code",
   "execution_count": 20,
   "metadata": {},
   "outputs": [],
   "source": [
    "def ler_entrada(arquivo):\n",
    "    try:\n",
    "        with open(arquivo, 'r') as f:\n",
    "            linhas = [linha.strip() for linha in f.readlines()]\n",
    "        \n",
    "        # Validar quantidade de linhas\n",
    "        if len(linhas) < 4:\n",
    "            raise ValueError(\"O arquivo deve ter pelo menos 4 linhas: tipo do problema, número de variáveis, número de restrições, e a função objetivo.\")\n",
    "        \n",
    "        # Ler tipo do problema (maximização ou minimização)\n",
    "        try:\n",
    "            tipo_problema = int(linhas[0])\n",
    "            if tipo_problema not in [-1, 1]:\n",
    "                raise ValueError(\"O tipo do problema deve ser -1 (minimização) ou 1 (maximização).\")\n",
    "        except ValueError:\n",
    "            raise ValueError(\"A primeira linha deve ser um número inteiro: -1 ou 1.\")\n",
    "\n",
    "        # Ler número de variáveis\n",
    "        try:\n",
    "            num_variaveis = int(linhas[1])\n",
    "            if num_variaveis <= 0:\n",
    "                raise ValueError(\"O número de variáveis deve ser um inteiro positivo.\")\n",
    "        except ValueError:\n",
    "            raise ValueError(\"A segunda linha deve ser um número inteiro positivo indicando o número de variáveis.\")\n",
    "\n",
    "        # Ler número de restrições\n",
    "        try:\n",
    "            num_restricoes = int(linhas[2])\n",
    "            if num_restricoes <= 0:\n",
    "                raise ValueError(\"O número de restrições deve ser um inteiro positivo.\")\n",
    "        except ValueError:\n",
    "            raise ValueError(\"A terceira linha deve ser um número inteiro positivo indicando o número de restrições.\")\n",
    "\n",
    "        # Validar quantidade de linhas do arquivo\n",
    "        if len(linhas) != 3 + 1 + num_restricoes:\n",
    "            raise ValueError(f\"O arquivo deve ter exatamente {3 + 1 + num_restricoes} linhas, mas possui {len(linhas)}.\")\n",
    "        \n",
    "        # Ler a função objetivo\n",
    "        try:\n",
    "            func_objetivo = [float(x) for x in linhas[3].replace(',', ' ').split()]\n",
    "            if len(func_objetivo) != num_variaveis:\n",
    "                raise ValueError(\"O número de coeficientes da função objetivo não corresponde ao número de variáveis.\")\n",
    "        except ValueError:\n",
    "            raise ValueError(\"A quarta linha deve conter os coeficientes da função objetivo, separados por vírgulas ou espaços.\")\n",
    "        \n",
    "        # Ler as restrições\n",
    "        restricoes = []\n",
    "        for i in range(num_restricoes):\n",
    "            try:\n",
    "                restricao = [float(x) for x in linhas[4 + i].replace(',', ' ').split()]\n",
    "                if len(restricao) != num_variaveis + 1:\n",
    "                    raise ValueError(f\"A restrição na linha {5 + i} não possui o número correto de coeficientes (variáveis + lado direito).\")\n",
    "                restricoes.append(restricao)\n",
    "            except ValueError:\n",
    "                raise ValueError(f\"A linha {5 + i} (restrição) está mal formatada. Deve conter {num_variaveis + 1} valores numéricos separados por vírgulas ou espaços.\")\n",
    "        \n",
    "        return tipo_problema, num_variaveis, num_restricoes, func_objetivo, restricoes\n",
    "\n",
    "    except FileNotFoundError:\n",
    "        raise FileNotFoundError(f\"O arquivo '{arquivo}' não foi encontrado.\")\n",
    "    except Exception as e:\n",
    "        raise RuntimeError(f\"Erro ao ler o arquivo: {e}\")\n"
   ]
  },
  {
   "cell_type": "code",
   "execution_count": 21,
   "metadata": {},
   "outputs": [],
   "source": [
    "def preparar_tabela(tipo_problema, num_variaveis, num_restricoes, func_objetivo, restricoes):\n",
    "    # Se for minimização, transformar coeficientes da função objetivo em negativos\n",
    "    if tipo_problema == -1:\n",
    "        func_objetivo = [-c for c in func_objetivo]\n",
    "    \n",
    "    # Adicionar coeficientes das variáveis de folga\n",
    "    tabela = []\n",
    "    for i in range(num_restricoes):\n",
    "        linha = restricoes[i][:num_variaveis] + [0] * num_restricoes + [restricoes[i][-1]]\n",
    "        linha[num_variaveis + i] = 1  # Adiciona 1 na coluna da variável de folga\n",
    "        tabela.append(linha)\n",
    "    \n",
    "    # Adicionar a função objetivo à tabela na primeira linha\n",
    "    linha_objetivo = func_objetivo + [0] * (num_restricoes + 1)\n",
    "    tabela.insert(0, [-c for c in linha_objetivo])  # Negar para maximização\n",
    "    \n",
    "    return np.array(tabela, dtype=float)\n"
   ]
  },
  {
   "cell_type": "code",
   "execution_count": 22,
   "metadata": {},
   "outputs": [
    {
     "name": "stdout",
     "output_type": "stream",
     "text": [
      "Tabela inicial:\n",
      "[[-3. -5.  0.  0.  0.  0.]\n",
      " [ 2.  1.  1.  0.  0. 30.]\n",
      " [ 3. -1.  0.  1.  0. 20.]\n",
      " [ 1.  4.  0.  0.  1. 15.]]\n"
     ]
    }
   ],
   "source": [
    "# Teste de leitura e preparação da tabela\n",
    "arquivo = 'Entrada.txt'\n",
    "tipo_problema, num_variaveis, num_restricoes, func_objetivo, restricoes = ler_entrada(arquivo)\n",
    "tabela = preparar_tabela(tipo_problema, num_variaveis, num_restricoes, func_objetivo, restricoes)\n",
    "\n",
    "print(\"Tabela inicial:\")\n",
    "print(tabela)"
   ]
  },
  {
   "cell_type": "markdown",
   "metadata": {},
   "source": [
    "# Implementando o Simplex"
   ]
  },
  {
   "cell_type": "code",
   "execution_count": 23,
   "metadata": {},
   "outputs": [],
   "source": [
    "def ajusta_tabela(tabela, linha_pivo, coluna_pivo):\n",
    "    # Normaliza a linha pivô, fazendo a divisão da linha pelo elemento pivô\n",
    "    tabela[linha_pivo] /= tabela[linha_pivo, coluna_pivo]\n",
    "\n",
    "    # Atualiza as outras linhas para zerar o coeficiente da coluna pivô.\n",
    "    for linha in range(tabela.shape[0]):\n",
    "        if linha != linha_pivo:\n",
    "            # Nova linha = linha atual - coeficiente da linha na coluna pivô * coeficiente da coluna na linha pivô\n",
    "            tabela[linha] -= tabela[linha, coluna_pivo] * tabela[linha_pivo]  \n",
    "\n",
    "    return tabela\n",
    "\n",
    "def simplex(tabela):\n",
    "    num_linhas, num_colunas = tabela.shape\n",
    "\n",
    "    while True:\n",
    "        # Se todos os coeficientes na linha da função objetivo são positivos, a solução ótima foi encontrada.\n",
    "        if all(tabela[0, :-1] >= 0):\n",
    "            break\n",
    "\n",
    "        # Seleciona a coluna com o coeficiente mais negativo na linha da função objetivo. (Variável que entrará na base)\n",
    "        coluna_pivo = np.argmin(tabela[0, :-1])\n",
    "\n",
    "        # Calcula as razões entre o lado direito (LD) e os coeficientes da coluna pivô.\n",
    "        # A linha com a menor razão positiva é selecionada. (Variável que sairá da base)\n",
    "        razoes = []\n",
    "        for linha in range(1, num_linhas):  # Ignora a linha da função objetivo\n",
    "            if tabela[linha, coluna_pivo] > 0:\n",
    "                razoes.append(tabela[linha, -1] / tabela[linha, coluna_pivo])  # Razão = LD / Coeficiente da coluna pivô\n",
    "            else:\n",
    "                razoes.append(float('inf'))  # Ignora coeficientes negativos ou zero\n",
    "\n",
    "        linha_pivo = np.argmin(razoes) + 1  # +1 para ajustar o índice (a primeira linha é a função objetivo)\n",
    "\n",
    "        # Método externo para ajustar a tabela.\n",
    "        tabela = ajusta_tabela(tabela, linha_pivo, coluna_pivo)\n",
    "\n",
    "\n",
    "    # Extração da Solução Ótima:\n",
    "    solucao = np.zeros(num_colunas - 1)  # Vetor para armazenar os valores das variáveis (esse np.zeros inicia um vetor com zeros) (tamanho da quantidade de colunas incluindo variáveis de folga)\n",
    "    for linha in range(1, num_linhas):\n",
    "        # Verifica se a variável é básica (coluna com exatamente um 1 e o resto 0).\n",
    "        coluna_basica = np.where(tabela[linha, :-1] == 1)[0]\n",
    "        # Primeiro, verifica se há apenas uma coluna com valor 1 na linha atual e depois verifica se a coluna segue o formato de variável básica (tudo zero e apenas um valor 1)\n",
    "        if len(coluna_basica) == 1 and all(tabela[:, coluna_basica[0]] == [0] * linha + [1] + [0] * (num_linhas - linha - 1)):\n",
    "            solucao[coluna_basica[0]] = tabela[linha, -1]  # Armazena o valor da variável básica (valor que ela tem no LD) no vetor solução\n",
    "\n",
    "    valor_otimo = tabela[0, -1]\n",
    "\n",
    "    return solucao, valor_otimo"
   ]
  },
  {
   "cell_type": "markdown",
   "metadata": {},
   "source": [
    "# Melhorando a visualização"
   ]
  },
  {
   "cell_type": "code",
   "execution_count": 31,
   "metadata": {},
   "outputs": [],
   "source": [
    "def exibir_tabela_com_pandas(tabela, num_variaveis, num_restricoes):\n",
    "    # Criando rótulos das colunas\n",
    "    colunas = [f\"x{i+1}\" for i in range(num_variaveis)] + [f\"s{i+1}\" for i in range(num_restricoes)] + [\"LD\"]\n",
    "    # Criando rótulos das linhas\n",
    "    linhas = [\"Z\"] + [f\"Restrição {i+1}\" for i in range(num_restricoes)]\n",
    "    # Transformando tabela em DataFrame\n",
    "    df = pd.DataFrame(tabela, columns=colunas, index=linhas)\n",
    "    return df\n",
    "\n",
    "def exibir_solucao_com_pandas(solucao, valor_otimo):\n",
    "    variaveis = [f\"x{i+1}\" for i in range(num_variaveis)] + [f\"s{i+1}\" for i in range(num_restricoes)]\n",
    "    df_solucao = pd.DataFrame({\"Variável\": variaveis, \"Valor\": solucao})\n",
    "    df_solucao.loc[len(df_solucao)] = [\"Z (Ótimo)\", valor_otimo]\n",
    "    return df_solucao\n"
   ]
  },
  {
   "cell_type": "markdown",
   "metadata": {},
   "source": [
    "# Testando o código"
   ]
  },
  {
   "cell_type": "code",
   "execution_count": 32,
   "metadata": {},
   "outputs": [
    {
     "name": "stdout",
     "output_type": "stream",
     "text": [
      "Tabela inicial:\n"
     ]
    },
    {
     "data": {
      "text/html": [
       "<div>\n",
       "<style scoped>\n",
       "    .dataframe tbody tr th:only-of-type {\n",
       "        vertical-align: middle;\n",
       "    }\n",
       "\n",
       "    .dataframe tbody tr th {\n",
       "        vertical-align: top;\n",
       "    }\n",
       "\n",
       "    .dataframe thead th {\n",
       "        text-align: right;\n",
       "    }\n",
       "</style>\n",
       "<table border=\"1\" class=\"dataframe\">\n",
       "  <thead>\n",
       "    <tr style=\"text-align: right;\">\n",
       "      <th></th>\n",
       "      <th>x1</th>\n",
       "      <th>x2</th>\n",
       "      <th>s1</th>\n",
       "      <th>s2</th>\n",
       "      <th>s3</th>\n",
       "      <th>LD</th>\n",
       "    </tr>\n",
       "  </thead>\n",
       "  <tbody>\n",
       "    <tr>\n",
       "      <th>Z</th>\n",
       "      <td>-3.0</td>\n",
       "      <td>-5.0</td>\n",
       "      <td>0.0</td>\n",
       "      <td>0.0</td>\n",
       "      <td>0.0</td>\n",
       "      <td>0.0</td>\n",
       "    </tr>\n",
       "    <tr>\n",
       "      <th>Restrição 1</th>\n",
       "      <td>2.0</td>\n",
       "      <td>1.0</td>\n",
       "      <td>1.0</td>\n",
       "      <td>0.0</td>\n",
       "      <td>0.0</td>\n",
       "      <td>30.0</td>\n",
       "    </tr>\n",
       "    <tr>\n",
       "      <th>Restrição 2</th>\n",
       "      <td>3.0</td>\n",
       "      <td>-1.0</td>\n",
       "      <td>0.0</td>\n",
       "      <td>1.0</td>\n",
       "      <td>0.0</td>\n",
       "      <td>20.0</td>\n",
       "    </tr>\n",
       "    <tr>\n",
       "      <th>Restrição 3</th>\n",
       "      <td>1.0</td>\n",
       "      <td>4.0</td>\n",
       "      <td>0.0</td>\n",
       "      <td>0.0</td>\n",
       "      <td>1.0</td>\n",
       "      <td>15.0</td>\n",
       "    </tr>\n",
       "  </tbody>\n",
       "</table>\n",
       "</div>"
      ],
      "text/plain": [
       "              x1   x2   s1   s2   s3    LD\n",
       "Z           -3.0 -5.0  0.0  0.0  0.0   0.0\n",
       "Restrição 1  2.0  1.0  1.0  0.0  0.0  30.0\n",
       "Restrição 2  3.0 -1.0  0.0  1.0  0.0  20.0\n",
       "Restrição 3  1.0  4.0  0.0  0.0  1.0  15.0"
      ]
     },
     "execution_count": 32,
     "metadata": {},
     "output_type": "execute_result"
    }
   ],
   "source": [
    "arquivo = 'Entrada.txt'\n",
    "tipo_problema, num_variaveis, num_restricoes, func_objetivo, restricoes = ler_entrada(arquivo)\n",
    "tabela = preparar_tabela(tipo_problema, num_variaveis, num_restricoes, func_objetivo, restricoes)\n",
    "\n",
    "print(\"Tabela inicial:\")\n",
    "exibir_tabela_com_pandas(tabela, num_variaveis, num_restricoes)"
   ]
  },
  {
   "cell_type": "code",
   "execution_count": 33,
   "metadata": {},
   "outputs": [
    {
     "name": "stdout",
     "output_type": "stream",
     "text": [
      "\n",
      "Solução ótima:\n"
     ]
    },
    {
     "data": {
      "text/html": [
       "<div>\n",
       "<style scoped>\n",
       "    .dataframe tbody tr th:only-of-type {\n",
       "        vertical-align: middle;\n",
       "    }\n",
       "\n",
       "    .dataframe tbody tr th {\n",
       "        vertical-align: top;\n",
       "    }\n",
       "\n",
       "    .dataframe thead th {\n",
       "        text-align: right;\n",
       "    }\n",
       "</style>\n",
       "<table border=\"1\" class=\"dataframe\">\n",
       "  <thead>\n",
       "    <tr style=\"text-align: right;\">\n",
       "      <th></th>\n",
       "      <th>Variável</th>\n",
       "      <th>Valor</th>\n",
       "    </tr>\n",
       "  </thead>\n",
       "  <tbody>\n",
       "    <tr>\n",
       "      <th>0</th>\n",
       "      <td>x1</td>\n",
       "      <td>7.307692</td>\n",
       "    </tr>\n",
       "    <tr>\n",
       "      <th>1</th>\n",
       "      <td>x2</td>\n",
       "      <td>1.923077</td>\n",
       "    </tr>\n",
       "    <tr>\n",
       "      <th>2</th>\n",
       "      <td>s1</td>\n",
       "      <td>13.461538</td>\n",
       "    </tr>\n",
       "    <tr>\n",
       "      <th>3</th>\n",
       "      <td>s2</td>\n",
       "      <td>0.000000</td>\n",
       "    </tr>\n",
       "    <tr>\n",
       "      <th>4</th>\n",
       "      <td>s3</td>\n",
       "      <td>0.000000</td>\n",
       "    </tr>\n",
       "    <tr>\n",
       "      <th>5</th>\n",
       "      <td>Z (Ótimo)</td>\n",
       "      <td>31.538462</td>\n",
       "    </tr>\n",
       "  </tbody>\n",
       "</table>\n",
       "</div>"
      ],
      "text/plain": [
       "    Variável      Valor\n",
       "0         x1   7.307692\n",
       "1         x2   1.923077\n",
       "2         s1  13.461538\n",
       "3         s2   0.000000\n",
       "4         s3   0.000000\n",
       "5  Z (Ótimo)  31.538462"
      ]
     },
     "execution_count": 33,
     "metadata": {},
     "output_type": "execute_result"
    }
   ],
   "source": [
    "solucao, valor_otimo = simplex(tabela)\n",
    "\n",
    "df_solucao = exibir_solucao_com_pandas(solucao, valor_otimo)\n",
    "\n",
    "print(\"\\nSolução ótima:\")\n",
    "df_solucao"
   ]
  }
 ],
 "metadata": {
  "kernelspec": {
   "display_name": "Python 3",
   "language": "python",
   "name": "python3"
  },
  "language_info": {
   "codemirror_mode": {
    "name": "ipython",
    "version": 3
   },
   "file_extension": ".py",
   "mimetype": "text/x-python",
   "name": "python",
   "nbconvert_exporter": "python",
   "pygments_lexer": "ipython3",
   "version": "3.12.8"
  }
 },
 "nbformat": 4,
 "nbformat_minor": 2
}
